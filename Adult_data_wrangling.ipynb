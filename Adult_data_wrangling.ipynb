{
 "cells": [
  {
   "cell_type": "code",
   "execution_count": 1,
   "metadata": {
    "collapsed": true
   },
   "outputs": [],
   "source": [
    "import pandas as pd\n",
    "import numpy as np"
   ]
  },
  {
   "cell_type": "markdown",
   "metadata": {},
   "source": [
    "# Pre-proceesing"
   ]
  },
  {
   "cell_type": "code",
   "execution_count": 2,
   "metadata": {
    "collapsed": false
   },
   "outputs": [],
   "source": [
    "col = ['age', 'workclass', 'fnlwgt', 'education', 'education_num', 'martial_status', 'occupation', \n",
    "       'relationship', 'race', 'sex', 'captial_gain', 'captial_loss', 'hours_per_week', 'native_country', 'income']\n",
    "train = pd.read_csv('adult.data.txt', header = None, names = col)\n",
    "test = pd.read_csv('adult.test.txt', header = None, skiprows = 1, names = col)"
   ]
  },
  {
   "cell_type": "code",
   "execution_count": 3,
   "metadata": {
    "collapsed": false
   },
   "outputs": [
    {
     "data": {
      "text/plain": [
       "age                int64\n",
       "workclass         object\n",
       "fnlwgt             int64\n",
       "education         object\n",
       "education_num      int64\n",
       "martial_status    object\n",
       "occupation        object\n",
       "relationship      object\n",
       "race              object\n",
       "sex               object\n",
       "captial_gain       int64\n",
       "captial_loss       int64\n",
       "hours_per_week     int64\n",
       "native_country    object\n",
       "income            object\n",
       "dtype: object"
      ]
     },
     "execution_count": 3,
     "metadata": {},
     "output_type": "execute_result"
    }
   ],
   "source": [
    "train.dtypes"
   ]
  },
  {
   "cell_type": "code",
   "execution_count": 4,
   "metadata": {
    "collapsed": true
   },
   "outputs": [],
   "source": [
    "cateCol = train.select_dtypes(include=['object']).columns\n",
    "numCol = train.select_dtypes(include=['int64']).columns"
   ]
  },
  {
   "cell_type": "code",
   "execution_count": 5,
   "metadata": {
    "collapsed": false
   },
   "outputs": [
    {
     "data": {
      "text/html": [
       "<div>\n",
       "<table border=\"1\" class=\"dataframe\">\n",
       "  <thead>\n",
       "    <tr style=\"text-align: right;\">\n",
       "      <th></th>\n",
       "      <th>age</th>\n",
       "      <th>workclass</th>\n",
       "      <th>fnlwgt</th>\n",
       "      <th>education</th>\n",
       "      <th>education_num</th>\n",
       "      <th>martial_status</th>\n",
       "      <th>occupation</th>\n",
       "      <th>relationship</th>\n",
       "      <th>race</th>\n",
       "      <th>sex</th>\n",
       "      <th>captial_gain</th>\n",
       "      <th>captial_loss</th>\n",
       "      <th>hours_per_week</th>\n",
       "      <th>native_country</th>\n",
       "      <th>income</th>\n",
       "    </tr>\n",
       "  </thead>\n",
       "  <tbody>\n",
       "  </tbody>\n",
       "</table>\n",
       "</div>"
      ],
      "text/plain": [
       "Empty DataFrame\n",
       "Columns: [age, workclass, fnlwgt, education, education_num, martial_status, occupation, relationship, race, sex, captial_gain, captial_loss, hours_per_week, native_country, income]\n",
       "Index: []"
      ]
     },
     "execution_count": 5,
     "metadata": {},
     "output_type": "execute_result"
    }
   ],
   "source": [
    "# find missing values\n",
    "train[train.isnull().any(axis=1)]"
   ]
  },
  {
   "cell_type": "code",
   "execution_count": 6,
   "metadata": {
    "collapsed": false
   },
   "outputs": [
    {
     "data": {
      "text/plain": [
       "array([' State-gov', ' Bachelors', ' Never-married', ' Adm-clerical',\n",
       "       ' Not-in-family', ' White', ' Male', ' United-States', ' <=50K',\n",
       "       ' Self-emp-not-inc', ' Married-civ-spouse', ' Exec-managerial',\n",
       "       ' Husband', ' Private', ' HS-grad', ' Divorced',\n",
       "       ' Handlers-cleaners', ' 11th', ' Black', ' Prof-specialty', ' Wife',\n",
       "       ' Female', ' Cuba', ' Masters', ' 9th', ' Married-spouse-absent',\n",
       "       ' Other-service', ' Jamaica', ' >50K', ' Some-college',\n",
       "       ' Asian-Pac-Islander', ' India', ' Own-child', ' Assoc-acdm',\n",
       "       ' Sales', ' Assoc-voc', ' Craft-repair', ' ?', ' 7th-8th',\n",
       "       ' Transport-moving', ' Amer-Indian-Eskimo', ' Mexico',\n",
       "       ' Farming-fishing', ' Machine-op-inspct', ' Unmarried',\n",
       "       ' Doctorate', ' Separated', ' Federal-gov', ' Tech-support',\n",
       "       ' Local-gov', ' South', ' Protective-serv', ' Puerto-Rico',\n",
       "       ' Married-AF-spouse', ' Other', ' Prof-school', ' Honduras',\n",
       "       ' Self-emp-inc', ' 5th-6th', ' Other-relative', ' 10th', ' England',\n",
       "       ' Canada', ' Germany', ' Iran', ' Widowed', ' Philippines',\n",
       "       ' 1st-4th', ' Italy', ' Poland', ' Preschool', ' Columbia',\n",
       "       ' Cambodia', ' Thailand', ' Ecuador', ' Laos', ' Taiwan', ' Haiti',\n",
       "       ' Portugal', ' 12th', ' Dominican-Republic', ' Armed-Forces',\n",
       "       ' El-Salvador', ' France', ' Priv-house-serv', ' Guatemala',\n",
       "       ' China', ' Japan', ' Yugoslavia', ' Peru',\n",
       "       ' Outlying-US(Guam-USVI-etc)', ' Scotland', ' Trinadad&Tobago',\n",
       "       ' Greece', ' Without-pay', ' Nicaragua', ' Vietnam', ' Hong',\n",
       "       ' Ireland', ' Never-worked', ' Hungary', ' Holand-Netherlands'], dtype=object)"
      ]
     },
     "execution_count": 6,
     "metadata": {},
     "output_type": "execute_result"
    }
   ],
   "source": [
    "pd.unique(train[cateCol].values.ravel())\n",
    "# ? = missing value and there is a white space in the head of strings"
   ]
  },
  {
   "cell_type": "code",
   "execution_count": 7,
   "metadata": {
    "collapsed": false
   },
   "outputs": [],
   "source": [
    "train[cateCol] = train[cateCol].apply(lambda x: x.str.strip(to_strip = None))\n",
    "test[cateCol] = test[cateCol].apply(lambda x: x.str.strip(to_strip = None))\n",
    "# remove white space before strings"
   ]
  },
  {
   "cell_type": "code",
   "execution_count": 8,
   "metadata": {
    "collapsed": false
   },
   "outputs": [],
   "source": [
    "train.replace('?', np.nan, inplace = True)\n",
    "test.replace('?', np.nan, inplace = True)"
   ]
  },
  {
   "cell_type": "code",
   "execution_count": 9,
   "metadata": {
    "collapsed": false
   },
   "outputs": [
    {
     "name": "stdout",
     "output_type": "stream",
     "text": [
      "0.0736770983692\n",
      "0.0749953934034\n"
     ]
    }
   ],
   "source": [
    "print sum([True for idx,row in train.iterrows() if any(row.isnull())])*1.0/train.shape[0]\n",
    "print sum([True for idx,row in test.iterrows() if any(row.isnull())])*1.0/test.shape[0]\n",
    "# records with missing values do not account for large proportion, so remove them directly \n",
    "\n",
    "train = train.dropna()\n",
    "test = test.dropna()"
   ]
  },
  {
   "cell_type": "code",
   "execution_count": 10,
   "metadata": {
    "collapsed": false
   },
   "outputs": [
    {
     "data": {
      "text/plain": [
       "{'<=50K.', '>50K.'}"
      ]
     },
     "execution_count": 10,
     "metadata": {},
     "output_type": "execute_result"
    }
   ],
   "source": [
    "# check if has any category existing in test instand of train\n",
    "set(pd.unique(test[cateCol].values.ravel())) - set(pd.unique(train[cateCol].values.ravel()))"
   ]
  },
  {
   "cell_type": "code",
   "execution_count": 11,
   "metadata": {
    "collapsed": false
   },
   "outputs": [],
   "source": [
    "# match income in test and train\n",
    "test['income'] = test['income'].str.replace('.', '')"
   ]
  },
  {
   "cell_type": "code",
   "execution_count": 12,
   "metadata": {
    "collapsed": false
   },
   "outputs": [
    {
     "data": {
      "text/plain": [
       "workclass       Federal-gov                     943.0\n",
       "                Local-gov                      2067.0\n",
       "                Private                       22286.0\n",
       "                Self-emp-inc                   1074.0\n",
       "                Self-emp-not-inc               2499.0\n",
       "                State-gov                      1279.0\n",
       "                Without-pay                      14.0\n",
       "education       10th                            820.0\n",
       "                11th                           1048.0\n",
       "                12th                            377.0\n",
       "                1st-4th                         151.0\n",
       "                5th-6th                         288.0\n",
       "                7th-8th                         557.0\n",
       "                9th                             455.0\n",
       "                Assoc-acdm                     1008.0\n",
       "                Assoc-voc                      1307.0\n",
       "                Bachelors                      5044.0\n",
       "                Doctorate                       375.0\n",
       "                HS-grad                        9840.0\n",
       "                Masters                        1627.0\n",
       "                Preschool                        45.0\n",
       "                Prof-school                     542.0\n",
       "                Some-college                   6678.0\n",
       "martial_status  Divorced                       4214.0\n",
       "                Married-AF-spouse                21.0\n",
       "                Married-civ-spouse            14065.0\n",
       "                Married-spouse-absent           370.0\n",
       "                Never-married                  9726.0\n",
       "                Separated                       939.0\n",
       "                Widowed                         827.0\n",
       "                                               ...   \n",
       "native_country  Haiti                            42.0\n",
       "                Holand-Netherlands                1.0\n",
       "                Honduras                         12.0\n",
       "                Hong                             19.0\n",
       "                Hungary                          13.0\n",
       "                India                           100.0\n",
       "                Iran                             42.0\n",
       "                Ireland                          24.0\n",
       "                Italy                            68.0\n",
       "                Jamaica                          80.0\n",
       "                Japan                            59.0\n",
       "                Laos                             17.0\n",
       "                Mexico                          610.0\n",
       "                Nicaragua                        33.0\n",
       "                Outlying-US(Guam-USVI-etc)       14.0\n",
       "                Peru                             30.0\n",
       "                Philippines                     188.0\n",
       "                Poland                           56.0\n",
       "                Portugal                         34.0\n",
       "                Puerto-Rico                     109.0\n",
       "                Scotland                         11.0\n",
       "                South                            71.0\n",
       "                Taiwan                           42.0\n",
       "                Thailand                         17.0\n",
       "                Trinadad&Tobago                  18.0\n",
       "                United-States                 27504.0\n",
       "                Vietnam                          64.0\n",
       "                Yugoslavia                       16.0\n",
       "income          <=50K                         22654.0\n",
       "                >50K                           7508.0\n",
       "dtype: float64"
      ]
     },
     "execution_count": 12,
     "metadata": {},
     "output_type": "execute_result"
    }
   ],
   "source": [
    "train[cateCol].apply(pd.Series.value_counts).T.stack()\n",
    "# check duplicated category with typo - no duplications"
   ]
  },
  {
   "cell_type": "code",
   "execution_count": 13,
   "metadata": {
    "collapsed": false
   },
   "outputs": [
    {
     "data": {
      "text/plain": [
       "(23, 15)"
      ]
     },
     "execution_count": 13,
     "metadata": {},
     "output_type": "execute_result"
    }
   ],
   "source": [
    "# check duplicated rows \n",
    "train[train.duplicated(keep = 'first')].shape\n",
    "# only 23 duplicated rows, it does not account for big proportion, and i am not sure the identical rows means a same person, \n",
    "# perhaps different person with same features, so after considering, these duplicates rows will be kept"
   ]
  },
  {
   "cell_type": "code",
   "execution_count": 14,
   "metadata": {
    "collapsed": true
   },
   "outputs": [],
   "source": [
    "train.to_csv('train.csv')\n",
    "test.to_csv('test.csv')"
   ]
  }
 ],
 "metadata": {
  "kernelspec": {
   "display_name": "Python 2",
   "language": "python",
   "name": "python2"
  },
  "language_info": {
   "codemirror_mode": {
    "name": "ipython",
    "version": 2
   },
   "file_extension": ".py",
   "mimetype": "text/x-python",
   "name": "python",
   "nbconvert_exporter": "python",
   "pygments_lexer": "ipython2",
   "version": "2.7.13"
  }
 },
 "nbformat": 4,
 "nbformat_minor": 2
}
